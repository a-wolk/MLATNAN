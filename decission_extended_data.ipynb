{
 "cells": [
  {
   "cell_type": "code",
   "execution_count": 1,
   "metadata": {},
   "outputs": [
    {
     "name": "stdout",
     "output_type": "stream",
     "text": [
      "Requirement already satisfied: pandas in /Users/arkadiusz.wolk/miniforge3/envs/mro/lib/python3.10/site-packages (1.5.2)\n",
      "Requirement already satisfied: numpy in /Users/arkadiusz.wolk/miniforge3/envs/mro/lib/python3.10/site-packages (1.23.2)\n",
      "Requirement already satisfied: scikit-learn in /Users/arkadiusz.wolk/miniforge3/envs/mro/lib/python3.10/site-packages (1.2.2)\n",
      "Requirement already satisfied: python-dateutil>=2.8.1 in /Users/arkadiusz.wolk/miniforge3/envs/mro/lib/python3.10/site-packages (from pandas) (2.8.2)\n",
      "Requirement already satisfied: pytz>=2020.1 in /Users/arkadiusz.wolk/miniforge3/envs/mro/lib/python3.10/site-packages (from pandas) (2022.6)\n",
      "Requirement already satisfied: joblib>=1.1.1 in /Users/arkadiusz.wolk/miniforge3/envs/mro/lib/python3.10/site-packages (from scikit-learn) (1.2.0)\n",
      "Requirement already satisfied: scipy>=1.3.2 in /Users/arkadiusz.wolk/miniforge3/envs/mro/lib/python3.10/site-packages (from scikit-learn) (1.10.1)\n",
      "Requirement already satisfied: threadpoolctl>=2.0.0 in /Users/arkadiusz.wolk/miniforge3/envs/mro/lib/python3.10/site-packages (from scikit-learn) (3.1.0)\n",
      "Requirement already satisfied: six>=1.5 in /Users/arkadiusz.wolk/miniforge3/envs/mro/lib/python3.10/site-packages (from python-dateutil>=2.8.1->pandas) (1.16.0)\n"
     ]
    }
   ],
   "source": [
    "! pip install pandas numpy scikit-learn\n",
    "\n",
    "import pandas as pd\n",
    "import numpy as np"
   ]
  },
  {
   "cell_type": "markdown",
   "metadata": {},
   "source": [
    "## Load data"
   ]
  },
  {
   "cell_type": "code",
   "execution_count": 20,
   "metadata": {},
   "outputs": [],
   "source": [
    "import pandas as pd\n",
    "import numpy as np\n",
    "BASE_DIR = \"narpsdata/extended\"\n",
    "common_cols = [0, 1, 2]\n",
    "\n",
    "def load_data(filename):\n",
    "    df = pd.read_csv(filename, delimiter=\" \", header=None)\n",
    "    return df\n",
    "\n",
    "def merge_and_fillna(reference_df, target_df):\n",
    "    merged_df = pd.merge(reference_df, target_df, on=common_cols, how='left')\n",
    "    merged_df = merged_df.fillna(0)\n",
    "    return merged_df\n",
    "\n",
    "def clean_data(gain_range, loss_range, gain_indifference, loss_indifference):\n",
    "    ind_xyz = set(zip(gain_indifference[0].tolist(), gain_indifference[1].tolist(), gain_indifference[2].tolist()))\n",
    "    rng_xyz = set(zip(gain_range[0].tolist(), gain_range[1].tolist(), gain_range[2].tolist()))\n",
    "    xyz = ind_xyz | rng_xyz\n",
    "    all_coords = pd.DataFrame(list(xyz), columns=common_cols)\n",
    "    \n",
    "    new_gain_range = merge_and_fillna(all_coords, gain_range)\n",
    "    new_loss_range = merge_and_fillna(all_coords, loss_range)\n",
    "    new_gain_indifference = merge_and_fillna(all_coords, gain_indifference)\n",
    "    new_loss_indifference = merge_and_fillna(all_coords, loss_indifference)\n",
    "    return new_gain_range, new_loss_range, new_gain_indifference, new_loss_indifference\n",
    "\n",
    "def reset_data_frame(df):\n",
    "    df = df.transpose() # row = subject\n",
    "    df = df.drop(common_cols, axis='index') # drop rows with x,y,z\n",
    "    df = df.reset_index(drop=True)\n",
    "    return df\n",
    "\n",
    "def load_all_data():\n",
    "    gain_range = load_data(f\"{BASE_DIR}/gain_range_vmpfc.csv\")\n",
    "    loss_range = load_data(f\"{BASE_DIR}/loss_range_vmpfc.csv\")\n",
    "    gain_indifference = load_data(f\"{BASE_DIR}/gain_ind_vmpfc.csv\")\n",
    "    loss_indifference = load_data(f\"{BASE_DIR}/loss_ind_vmpfc.csv\")\n",
    "    \n",
    "    gain_range, loss_range, gain_indifference, loss_indifference = clean_data(gain_range, loss_range, gain_indifference, loss_indifference)\n",
    "\n",
    "    gain_range = reset_data_frame(gain_range)\n",
    "    loss_range = reset_data_frame(loss_range)\n",
    "    gain_indifference = reset_data_frame(gain_indifference)\n",
    "    loss_indifference = reset_data_frame(loss_indifference)\n",
    "\n",
    "    gain_range[\"gain_or_loss\"] = 1\n",
    "    loss_range[\"gain_or_loss\"] = 0\n",
    "    gain_indifference[\"gain_or_loss\"] = 1\n",
    "    loss_indifference[\"gain_or_loss\"] = 0\n",
    "    \n",
    "    df = pd.concat([gain_range, loss_range, gain_indifference, loss_indifference]).reset_index(drop=True)\n",
    "    X = df.drop(\"gain_or_loss\", axis='columns').fillna(0).to_numpy()\n",
    "    y = df[\"gain_or_loss\"].to_numpy()\n",
    "    return X, y\n"
   ]
  },
  {
   "cell_type": "code",
   "execution_count": 21,
   "metadata": {},
   "outputs": [],
   "source": [
    "from sklearn.metrics import accuracy_score\n",
    "from sklearn.svm import SVC"
   ]
  },
  {
   "cell_type": "code",
   "execution_count": 22,
   "metadata": {},
   "outputs": [],
   "source": [
    "X, y = load_all_data()"
   ]
  },
  {
   "cell_type": "code",
   "execution_count": 23,
   "metadata": {},
   "outputs": [
    {
     "data": {
      "text/plain": [
       "(202, 3773)"
      ]
     },
     "execution_count": 23,
     "metadata": {},
     "output_type": "execute_result"
    }
   ],
   "source": [
    "X.shape"
   ]
  },
  {
   "cell_type": "code",
   "execution_count": 24,
   "metadata": {},
   "outputs": [
    {
     "data": {
      "text/plain": [
       "(202, 3773)"
      ]
     },
     "execution_count": 24,
     "metadata": {},
     "output_type": "execute_result"
    }
   ],
   "source": [
    "X.shape"
   ]
  },
  {
   "cell_type": "markdown",
   "metadata": {},
   "source": [
    "## Prepare training and test data"
   ]
  },
  {
   "cell_type": "code",
   "execution_count": 26,
   "metadata": {},
   "outputs": [],
   "source": [
    "from sklearn.model_selection import train_test_split\n",
    "X_train, X_test, y_train, y_test = train_test_split(X, y, test_size=0.2, random_state=0)"
   ]
  },
  {
   "cell_type": "code",
   "execution_count": 28,
   "metadata": {},
   "outputs": [
    {
     "data": {
      "text/plain": [
       "((161, 3773), (161,))"
      ]
     },
     "execution_count": 28,
     "metadata": {},
     "output_type": "execute_result"
    }
   ],
   "source": [
    "(X_train.shape, y_train.shape)"
   ]
  },
  {
   "cell_type": "code",
   "execution_count": 29,
   "metadata": {},
   "outputs": [
    {
     "data": {
      "text/plain": [
       "((41, 3773), (41,))"
      ]
     },
     "execution_count": 29,
     "metadata": {},
     "output_type": "execute_result"
    }
   ],
   "source": [
    "(X_test.shape, y_test.shape)"
   ]
  },
  {
   "cell_type": "markdown",
   "metadata": {},
   "source": [
    "## Crossval"
   ]
  },
  {
   "cell_type": "code",
   "execution_count": 34,
   "metadata": {},
   "outputs": [],
   "source": [
    "from sklearn.model_selection import cross_val_score\n",
    "\n",
    "def crossval(estimator, X=X_train, y=y_train, k=10, scoring=None):\n",
    "    print(f\"Performing {k}-fold crossvalidation of {estimator}\")\n",
    "    cv_score = cross_val_score(estimator, X, y, cv=k, scoring=scoring)\n",
    "    print(f\"Scores: {cv_score}\")\n",
    "    print(f\"Average: {np.mean(cv_score)}. Stddev: {np.std(cv_score)}\")\n",
    "\n",
    "    estimator.fit(X, y)\n",
    "\n",
    "    return estimator\n"
   ]
  },
  {
   "cell_type": "code",
   "execution_count": 40,
   "metadata": {},
   "outputs": [],
   "source": [
    "def acc(model):\n",
    "    preds = model.predict(X_test)\n",
    "    print(\"Final model - accuracy:\", np.sum(preds == y_test) / preds.shape[0])"
   ]
  },
  {
   "cell_type": "markdown",
   "metadata": {},
   "source": [
    "## Linear"
   ]
  },
  {
   "cell_type": "code",
   "execution_count": 41,
   "metadata": {},
   "outputs": [
    {
     "name": "stdout",
     "output_type": "stream",
     "text": [
      "Performing 10-fold crossvalidation of SVC(kernel='linear', random_state=42)\n",
      "Scores: [0.70588235 0.75       0.6875     0.375      0.6875     0.625\n",
      " 0.6875     0.6875     0.75       0.4375    ]\n",
      "Average: 0.6393382352941177. Stddev: 0.12207266487785307\n",
      "Final model - accuracy: 0.5365853658536586\n"
     ]
    }
   ],
   "source": [
    "model = crossval(SVC(kernel='linear', C=1.0, random_state=42))\n",
    "acc(model)"
   ]
  },
  {
   "cell_type": "code",
   "execution_count": 42,
   "metadata": {},
   "outputs": [
    {
     "name": "stdout",
     "output_type": "stream",
     "text": [
      "Performing 10-fold crossvalidation of SVC(C=0.001, kernel='linear', random_state=42)\n",
      "Scores: [0.64705882 0.6875     0.8125     0.375      0.8125     0.5\n",
      " 0.75       0.6875     0.75       0.5625    ]\n",
      "Average: 0.6584558823529412. Stddev: 0.13442465586913857\n",
      "Final model - accuracy: 0.5365853658536586\n"
     ]
    }
   ],
   "source": [
    "model = crossval(SVC(kernel='linear', C=0.001, random_state=42))\n",
    "acc(model)"
   ]
  },
  {
   "cell_type": "code",
   "execution_count": 43,
   "metadata": {},
   "outputs": [
    {
     "name": "stdout",
     "output_type": "stream",
     "text": [
      "Performing 10-fold crossvalidation of SVC(C=100, kernel='linear', random_state=42)\n",
      "Scores: [0.70588235 0.75       0.6875     0.375      0.6875     0.625\n",
      " 0.6875     0.6875     0.75       0.4375    ]\n",
      "Average: 0.6393382352941177. Stddev: 0.12207266487785307\n",
      "Final model - accuracy: 0.5365853658536586\n"
     ]
    }
   ],
   "source": [
    "model = crossval(SVC(kernel='linear', C=100, random_state=42))\n",
    "acc(model)"
   ]
  },
  {
   "cell_type": "markdown",
   "metadata": {},
   "source": [
    "## RBF"
   ]
  },
  {
   "cell_type": "code",
   "execution_count": 45,
   "metadata": {},
   "outputs": [
    {
     "name": "stdout",
     "output_type": "stream",
     "text": [
      "Performing 10-fold crossvalidation of SVC(random_state=42)\n",
      "Scores: [0.58823529 0.625      0.8125     0.5        0.6875     0.375\n",
      " 0.75       0.6875     0.6875     0.625     ]\n",
      "Average: 0.6338235294117647. Stddev: 0.11882680542950445\n",
      "Final model - accuracy: 0.5365853658536586\n"
     ]
    }
   ],
   "source": [
    "model = crossval(SVC(kernel='rbf', C=1.0, random_state=42))\n",
    "acc(model)"
   ]
  },
  {
   "cell_type": "code",
   "execution_count": 46,
   "metadata": {},
   "outputs": [
    {
     "name": "stdout",
     "output_type": "stream",
     "text": [
      "Performing 10-fold crossvalidation of SVC(C=0.001, random_state=42)\n",
      "Scores: [0.52941176 0.5625     0.5625     0.5        0.5        0.5\n",
      " 0.5        0.5        0.5        0.5       ]\n",
      "Average: 0.5154411764705882. Stddev: 0.025086356042988204\n",
      "Final model - accuracy: 0.43902439024390244\n"
     ]
    }
   ],
   "source": [
    "model = crossval(SVC(kernel='rbf', C=0.001, random_state=42))\n",
    "acc(model)"
   ]
  },
  {
   "cell_type": "code",
   "execution_count": 47,
   "metadata": {},
   "outputs": [
    {
     "name": "stdout",
     "output_type": "stream",
     "text": [
      "Performing 10-fold crossvalidation of SVC(C=100, random_state=42)\n",
      "Scores: [0.58823529 0.625      0.75       0.5        0.6875     0.375\n",
      " 0.6875     0.625      0.6875     0.625     ]\n",
      "Average: 0.6150735294117646. Stddev: 0.10287616119161179\n",
      "Final model - accuracy: 0.5121951219512195\n"
     ]
    }
   ],
   "source": [
    "model = crossval(SVC(kernel='rbf', C=100, random_state=42))\n",
    "acc(model)"
   ]
  },
  {
   "cell_type": "markdown",
   "metadata": {},
   "source": [
    "## Random Forest"
   ]
  },
  {
   "cell_type": "code",
   "execution_count": 48,
   "metadata": {},
   "outputs": [
    {
     "name": "stdout",
     "output_type": "stream",
     "text": [
      "Performing 10-fold crossvalidation of RandomForestClassifier(max_depth=3, random_state=42)\n",
      "Scores: [0.52941176 0.75       0.625      0.4375     0.625      0.5625\n",
      " 0.5625     0.625      0.625      0.6875    ]\n",
      "Average: 0.6029411764705882. Stddev: 0.08171364254004732\n",
      "Final model - accuracy: 0.5365853658536586\n"
     ]
    }
   ],
   "source": [
    "from sklearn.ensemble import RandomForestClassifier\n",
    "\n",
    "model = crossval(RandomForestClassifier(n_estimators=100, max_depth=3, random_state=42))\n",
    "acc(model)"
   ]
  },
  {
   "cell_type": "code",
   "execution_count": 49,
   "metadata": {},
   "outputs": [
    {
     "name": "stdout",
     "output_type": "stream",
     "text": [
      "Performing 10-fold crossvalidation of RandomForestClassifier(max_depth=4, n_estimators=200, random_state=42)\n",
      "Scores: [0.58823529 0.5        0.6875     0.5        0.625      0.375\n",
      " 0.75       0.6875     0.625      0.6875    ]\n",
      "Average: 0.6025735294117647. Stddev: 0.1083586303753264\n",
      "Final model - accuracy: 0.4878048780487805\n"
     ]
    }
   ],
   "source": [
    "model = crossval(RandomForestClassifier(n_estimators=200, max_depth=4, random_state=42))\n",
    "acc(model)"
   ]
  },
  {
   "cell_type": "code",
   "execution_count": 50,
   "metadata": {},
   "outputs": [
    {
     "name": "stdout",
     "output_type": "stream",
     "text": [
      "Performing 10-fold crossvalidation of RandomForestClassifier(max_depth=2, random_state=42)\n",
      "Scores: [0.41176471 0.8125     0.6875     0.5        0.625      0.375\n",
      " 0.6875     0.625      0.5        0.625     ]\n",
      "Average: 0.5849264705882353. Stddev: 0.12889110250994198\n",
      "Final model - accuracy: 0.5853658536585366\n"
     ]
    }
   ],
   "source": [
    "model = crossval(RandomForestClassifier(n_estimators=100, max_depth=2, random_state=42))\n",
    "acc(model)"
   ]
  },
  {
   "cell_type": "code",
   "execution_count": 51,
   "metadata": {},
   "outputs": [
    {
     "name": "stdout",
     "output_type": "stream",
     "text": [
      "Performing 10-fold crossvalidation of RandomForestClassifier(max_depth=1, random_state=42)\n",
      "Scores: [0.47058824 0.6875     0.625      0.375      0.75       0.5\n",
      " 0.75       0.6875     0.6875     0.6875    ]\n",
      "Average: 0.6220588235294118. Stddev: 0.12196576892278971\n",
      "Final model - accuracy: 0.6097560975609756\n"
     ]
    }
   ],
   "source": [
    "model = crossval(RandomForestClassifier(n_estimators=100, max_depth=1, random_state=42))\n",
    "acc(model)"
   ]
  },
  {
   "cell_type": "markdown",
   "metadata": {},
   "source": [
    "## Neural Network"
   ]
  },
  {
   "cell_type": "code",
   "execution_count": 56,
   "metadata": {},
   "outputs": [
    {
     "name": "stdout",
     "output_type": "stream",
     "text": [
      "Performing 10-fold crossvalidation of MLPClassifier(alpha=1e-05, hidden_layer_sizes=(200, 100, 50, 20),\n",
      "              random_state=42, solver='lbfgs')\n",
      "Scores: [0.58823529 0.625      0.6875     0.4375     0.625      0.4375\n",
      " 0.75       0.5625     0.75       0.5625    ]\n",
      "Average: 0.6025735294117647. Stddev: 0.1046916557172376\n",
      "Final model - accuracy: 0.6097560975609756\n"
     ]
    }
   ],
   "source": [
    "from sklearn.neural_network import MLPClassifier\n",
    "\n",
    "model = crossval(MLPClassifier(solver='lbfgs', alpha=1e-5, hidden_layer_sizes=(200, 100, 50, 20), random_state=42, verbose=False))\n",
    "acc(model)"
   ]
  },
  {
   "cell_type": "code",
   "execution_count": null,
   "metadata": {},
   "outputs": [],
   "source": []
  }
 ],
 "metadata": {
  "kernelspec": {
   "display_name": "Python 3 (ipykernel)",
   "language": "python",
   "name": "python3"
  },
  "language_info": {
   "codemirror_mode": {
    "name": "ipython",
    "version": 3
   },
   "file_extension": ".py",
   "mimetype": "text/x-python",
   "name": "python",
   "nbconvert_exporter": "python",
   "pygments_lexer": "ipython3",
   "version": "3.10.8"
  }
 },
 "nbformat": 4,
 "nbformat_minor": 2
}
