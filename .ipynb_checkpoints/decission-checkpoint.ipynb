{
 "cells": [
  {
   "cell_type": "code",
   "execution_count": 1,
   "metadata": {},
   "outputs": [],
   "source": [
    "import pandas as pd\n",
    "import numpy as np"
   ]
  },
  {
   "cell_type": "markdown",
   "metadata": {},
   "source": [
    "# Load data"
   ]
  },
  {
   "cell_type": "code",
   "execution_count": 49,
   "metadata": {},
   "outputs": [],
   "source": [
    "TASK_TYPES = [\"indifference\", \"range\"]\n",
    "BASE_DIR = \"narpsdata/agh\"\n",
    "\n",
    "def load_csv(filename):\n",
    "    df = pd.read_csv(filename, delimiter=\" \", header=None)\n",
    "    df = df.transpose() # row = subject\n",
    "    df = df.drop([0, 1, 2], axis='index') # drop rows with x,y,z\n",
    "    df = df.reset_index(drop=True)\n",
    "    return df\n",
    "\n",
    "def train_test_split(data, test_size=0.2):\n",
    "    msk = np.random.rand(len(data)) < (1 - test_size)\n",
    "    train = data[msk]\n",
    "    test = data[~msk]\n",
    "\n",
    "    return train.drop(\"label\", axis='columns').to_numpy(), train[\"label\"].to_numpy(), test.drop(\"label\", axis='columns').to_numpy(), test[\"label\"].to_numpy()\n",
    "\n",
    "def load_task_data(task, test_size=0.2):\n",
    "    if task not in TASK_TYPES:\n",
    "        raise Exception(f\"Available tasks: {TASK_TYPES}\")\n",
    "\n",
    "    gain = load_csv(f\"{BASE_DIR}/gain_{task}.csv\")\n",
    "    gain[\"label\"] = 1\n",
    "\n",
    "    loss = load_csv(f\"{BASE_DIR}/loss_{task}.csv\")\n",
    "    loss[\"label\"] = 0\n",
    "\n",
    "    df = pd.concat([gain, loss])\n",
    "    return train_test_split(df.reset_index(drop=True), test_size=test_size)"
   ]
  },
  {
   "cell_type": "markdown",
   "metadata": {},
   "source": [
    "# Prepare model"
   ]
  },
  {
   "cell_type": "code",
   "execution_count": 50,
   "metadata": {},
   "outputs": [],
   "source": [
    "X_train, y_train, X_test, y_test = load_task_data(\"indifference\")"
   ]
  }
 ],
 "metadata": {
  "kernelspec": {
   "display_name": "Python 3 (ipykernel)",
   "language": "python",
   "name": "python3"
  },
  "language_info": {
   "codemirror_mode": {
    "name": "ipython",
    "version": 3
   },
   "file_extension": ".py",
   "mimetype": "text/x-python",
   "name": "python",
   "nbconvert_exporter": "python",
   "pygments_lexer": "ipython3",
   "version": "3.10.6"
  }
 },
 "nbformat": 4,
 "nbformat_minor": 2
}
